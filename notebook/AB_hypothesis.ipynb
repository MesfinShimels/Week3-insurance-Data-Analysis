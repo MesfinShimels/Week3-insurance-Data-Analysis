{
 "cells": [
  {
   "cell_type": "code",
   "execution_count": 1,
   "metadata": {},
   "outputs": [],
   "source": [
    "# Import the Python script\n",
    "import sys\n",
    "import pandas as pd\n",
    "\n",
    "sys.path.append('../scripts')  # Update with the path to your script folder\n",
    "from ab_hypothesis_testing import ABHypothesisTesting"
   ]
  },
  {
   "cell_type": "code",
   "execution_count": 2,
   "metadata": {},
   "outputs": [
    {
     "name": "stderr",
     "output_type": "stream",
     "text": [
      "C:\\Users\\User\\AppData\\Local\\Temp\\ipykernel_8352\\1399335849.py:3: DtypeWarning: Columns (32,37) have mixed types. Specify dtype option on import or set low_memory=False.\n",
      "  data = pd.read_csv(file_path)\n"
     ]
    }
   ],
   "source": [
    "# Load the dataset\n",
    "file_path = \"../Data/Data.csv\"  # Replace with the actual dataset file\n",
    "data = pd.read_csv(file_path)\n"
   ]
  },
  {
   "cell_type": "code",
   "execution_count": 3,
   "metadata": {},
   "outputs": [],
   "source": [
    "# Clean data by handling missing values\n",
    "data.fillna(0, inplace=True)\n",
    "\n"
   ]
  },
  {
   "cell_type": "markdown",
   "metadata": {},
   "source": [
    "Analysis of Results:\n",
    "1. Risk Across Provinces\n",
    "•\tTest Used: ANOVA\n",
    "•\tNull Hypothesis: There are no risk differences across provinces.\n",
    "•\tF-Statistic: 5.8494\n",
    "•\tp-Value: 1.68×10−71.68 \\times 10^{-7} (very small, well below 0.05)\n",
    "•\tConclusion: The null hypothesis is rejected, indicating significant risk differences across provinces. This suggests that geographic location at the provincial level has a statistically significant effect on risk.\n",
    "2. Risk Between Postal Codes\n",
    "•\tTest Used: ANOVA\n",
    "•\tNull Hypothesis: There are no risk differences between zip codes.\n",
    "•\tF-Statistic: 0.9420\n",
    "•\tp-Value: 0.8907 (greater than 0.05)\n",
    "•\tConclusion: Fail to reject the null hypothesis, suggesting no statistically significant risk differences between postal codes. Risk is relatively uniform when analyzed at the postal code level.\n",
    "3. Margin Difference Between Postal Codes\n",
    "•\tTest Used: ANOVA\n",
    "•\tNull Hypothesis: There are no significant margin differences between zip codes.\n",
    "•\tF-Statistic: 0.9049\n",
    "•\tp-Value: 0.9800 (greater than 0.05)\n",
    "•\tConclusion: Fail to reject the null hypothesis, indicating no statistically significant differences in profit margins across postal codes. Margin performance appears consistent across regions when grouped by postal code.\n",
    "4. Risk Difference by Gender\n",
    "•\tTest Used: T-Test\n",
    "•\tNull Hypothesis: There are no significant risk differences between women and men.\n",
    "•\tT-Statistic: -0.2964\n",
    "•\tp-Value: 0.7670 (greater than 0.05)\n",
    "•\tConclusion: Fail to reject the null hypothesis, indicating no statistically significant differences in risk between genders. Gender does not appear to play a role in risk variation.\n",
    "Summary Insights:\n",
    "1.\tGeographical Impact: While provinces exhibit significant differences in risk, postal codes do not. This suggests that broader geographical factors at the provincial level drive risk variability, rather than granular location differences.\n",
    "2.\tProfit Margins: Margins are consistent across postal codes, indicating uniform profitability irrespective of location.\n",
    "3.\tGender Neutrality in Risk: Risk profiles are not influenced by gender, suggesting that gender-neutral approaches in risk assessment are appropriate.\n",
    "\n",
    "\n"
   ]
  },
  {
   "cell_type": "code",
   "execution_count": 4,
   "metadata": {},
   "outputs": [
    {
     "name": "stdout",
     "output_type": "stream",
     "text": [
      "\n",
      "Risk Across Provinces\n",
      "Test: ANOVA\n",
      "Null Hypothesis: No risk differences across provinces\n",
      "F-Statistic: 5.849413762407606\n",
      "p-Value: 1.6782057588675903e-07\n",
      "Reject Null: True\n",
      "\n",
      "Risk Between PostalCode\n",
      "Test: ANOVA\n",
      "Null Hypothesis: No risk differences between zip codes\n",
      "F-Statistic: 0.9419762214391849\n",
      "p-Value: 0.8906511279164051\n",
      "Reject Null: False\n",
      "\n",
      "Margin Difference Between PostalCode\n",
      "Test: ANOVA\n",
      "Null Hypothesis: No significant margin differences between zip codes\n",
      "F-Statistic: 0.9048572915666762\n",
      "p-Value: 0.9800207088903969\n",
      "Reject Null: False\n",
      "\n",
      "Risk Difference Gender\n",
      "Test: T-Test\n",
      "Null Hypothesis: No significant risk differences between women and men\n",
      "T-Statistic: -0.296353891400699\n",
      "p-Value: 0.7669656471629474\n",
      "Reject Null: False\n"
     ]
    }
   ],
   "source": [
    "# Initialize the AB testing class\n",
    "ab_test = ABHypothesisTesting(data)\n",
    "\n",
    "# Perform tests\n",
    "results = {\n",
    "    \"Risk Across Provinces\": ab_test.test_risk_across_provinces(),\n",
    "    \"Risk Between PostalCode\": ab_test.test_risk_between_PostalCode(),\n",
    "    \"Margin Difference Between PostalCode\": ab_test.test_margin_difference_between_PostalCode(),\n",
    "    \"Risk Difference Gender\": ab_test.test_risk_difference_gender()\n",
    "}\n",
    "\n",
    "# Display results\n",
    "for test_name, result in results.items():\n",
    "    print(f\"\\n{test_name}\")\n",
    "    for key, value in result.items():\n",
    "        print(f\"{key}: {value}\")"
   ]
  },
  {
   "cell_type": "code",
   "execution_count": 5,
   "metadata": {},
   "outputs": [
    {
     "data": {
      "text/plain": [
       "Index(['UnderwrittenCoverID', 'PolicyID', 'TransactionMonth',\n",
       "       'IsVATRegistered', 'Citizenship', 'LegalType', 'Title', 'Language',\n",
       "       'Bank', 'AccountType', 'MaritalStatus', 'Gender', 'Country', 'Province',\n",
       "       'PostalCode', 'MainCrestaZone', 'SubCrestaZone', 'ItemType', 'mmcode',\n",
       "       'VehicleType', 'RegistrationYear', 'make', 'Model', 'Cylinders',\n",
       "       'cubiccapacity', 'kilowatts', 'bodytype', 'NumberOfDoors',\n",
       "       'VehicleIntroDate', 'CustomValueEstimate', 'AlarmImmobiliser',\n",
       "       'TrackingDevice', 'CapitalOutstanding', 'NewVehicle', 'WrittenOff',\n",
       "       'Rebuilt', 'Converted', 'CrossBorder', 'NumberOfVehiclesInFleet',\n",
       "       'SumInsured', 'TermFrequency', 'CalculatedPremiumPerTerm',\n",
       "       'ExcessSelected', 'CoverCategory', 'CoverType', 'CoverGroup', 'Section',\n",
       "       'Product', 'StatutoryClass', 'StatutoryRiskType', 'TotalPremium',\n",
       "       'TotalClaims', 'Margin'],\n",
       "      dtype='object')"
      ]
     },
     "execution_count": 5,
     "metadata": {},
     "output_type": "execute_result"
    }
   ],
   "source": [
    "data.columns"
   ]
  }
 ],
 "metadata": {
  "kernelspec": {
   "display_name": "myenv",
   "language": "python",
   "name": "python3"
  },
  "language_info": {
   "codemirror_mode": {
    "name": "ipython",
    "version": 3
   },
   "file_extension": ".py",
   "mimetype": "text/x-python",
   "name": "python",
   "nbconvert_exporter": "python",
   "pygments_lexer": "ipython3",
   "version": "3.12.8"
  }
 },
 "nbformat": 4,
 "nbformat_minor": 2
}
